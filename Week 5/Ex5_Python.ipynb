{
 "cells": [
  {
   "cell_type": "markdown",
   "metadata": {},
   "source": [
    "# Exercise 5"
   ]
  },
  {
   "cell_type": "code",
   "execution_count": 1,
   "metadata": {},
   "outputs": [],
   "source": [
    "import numpy as np\n",
    "import matplotlib.pyplot as plt\n",
    "import sys\n",
    "import os\n",
    "import subprocess\n",
    "import pandas as pd"
   ]
  },
  {
   "cell_type": "code",
   "execution_count": 118,
   "metadata": {},
   "outputs": [],
   "source": [
    "#generate bins\n",
    "data = np.loadtxt(\"eigenvalues_spacing.txt\")\n",
    "hist, bin_edges =np.histogram(data, density = 1, bins  =30)\n",
    "bin_centres = (bin_edges[1:]+bin_edges[:-1])/2\n",
    "graph_ = pd.DataFrame([bin_centres, hist]).T\n",
    "graph_.to_csv(str(\"hist_standard.txt\"), header=None, index=None, sep=\"\\t\")"
   ]
  },
  {
   "cell_type": "code",
   "execution_count": 119,
   "metadata": {},
   "outputs": [],
   "source": [
    "#implemented the gnuplot FIT in ptyhon with the different methods with cubic fit.\n",
    "in_files = [\"hist_standard.txt\"]\n",
    "out_files = [\"hist_standard.pdf\"]\n",
    "for i in range(1):\n",
    "    fl = open(\"fit_file.txt\", \"w+\")\n",
    "    fl.write(in_files[i])\n",
    "    fl.close()\n",
    "    \n",
    "    fn = open(\"out_file.txt\", \"w+\")\n",
    "    fn.write(out_files[i])\n",
    "    fn.close()\n",
    "    subprocess.call([\"gnuplot\",\"Ex5_fit.gp\"])"
   ]
  },
  {
   "cell_type": "markdown",
   "metadata": {},
   "source": [
    "### Local spacing"
   ]
  },
  {
   "cell_type": "code",
   "execution_count": 81,
   "metadata": {},
   "outputs": [
    {
     "data": {
      "text/plain": [
       "['0012', '0025', '0050', '0100', '0250', '0500', '1250']"
      ]
     },
     "execution_count": 81,
     "metadata": {},
     "output_type": "execute_result"
    }
   ],
   "source": [
    "n = 2500\n",
    "intervals = [n/200, n/100, n/50, n/25, n/10, n/5, n/2]\n",
    "\n",
    "interv_str = []\n",
    "for i in range(len(intervals)):\n",
    "    inter = \"%04d\" % intervals[i]\n",
    "    interv_str.append(inter)\n",
    "    \n",
    "interv_str"
   ]
  },
  {
   "cell_type": "code",
   "execution_count": 75,
   "metadata": {},
   "outputs": [],
   "source": [
    "in_files = []\n",
    "out_files  =[]\n",
    "for i in interv_str:\n",
    "    data = np.loadtxt(\"local_spacing_\"+str(i)+\".txt\")\n",
    "    hist, bin_edges =np.histogram(data, density = 1, bins  =200)\n",
    "    bin_centres = (bin_edges[1:]+bin_edges[:-1])/2\n",
    "    graph_ = pd.DataFrame([bin_centres, hist]).T\n",
    "    graph_.to_csv(str(\"hist_local\"+str(i)+\".txt\"), header=None, index=None, sep=\"\\t\")\n",
    "    in_files.append(\"hist_local\"+str(i)+\".txt\")\n",
    "    out_files.append(\"hist_local\"+str(i)+\".pdf\")"
   ]
  },
  {
   "cell_type": "code",
   "execution_count": 76,
   "metadata": {},
   "outputs": [],
   "source": [
    "#implemented the gnuplot FIT in ptyhon with the different methods with cubic fit.\n",
    "for i in range(len(intervals)):\n",
    "    fl = open(\"fit_file.txt\", \"w+\")\n",
    "    fl.write(in_files[i])\n",
    "    fl.close()\n",
    "    \n",
    "    fn = open(\"out_file.txt\", \"w+\")\n",
    "    fn.write(out_files[i])\n",
    "    fn.close()\n",
    "    subprocess.call([\"gnuplot\",\"Ex5_fit.gp\"])"
   ]
  },
  {
   "cell_type": "markdown",
   "metadata": {},
   "source": [
    "Generating plots"
   ]
  },
  {
   "cell_type": "code",
   "execution_count": 3,
   "metadata": {},
   "outputs": [],
   "source": [
    "param_files = []\n",
    "for i in interv_str:\n",
    "    param_files.append(\"paramhist_local\"+str(i)+\".txt\")\n",
    "\n",
    "param_files.append(\"paramhist_standard.txt\")"
   ]
  },
  {
   "cell_type": "code",
   "execution_count": 4,
   "metadata": {},
   "outputs": [
    {
     "data": {
      "text/plain": [
       "['0012', '0025', '0050', '0100', '0250', '0500', '1250', '2500']"
      ]
     },
     "execution_count": 4,
     "metadata": {},
     "output_type": "execute_result"
    }
   ],
   "source": [
    "interv_str.append(str(n))\n",
    "interv_str"
   ]
  },
  {
   "cell_type": "code",
   "execution_count": 5,
   "metadata": {},
   "outputs": [],
   "source": [
    "a = []\n",
    "b = []\n",
    "beta = []\n",
    "alpha = []\n",
    "for i in range(len(param_files)):\n",
    "    data = np.loadtxt(param_files[i])\n",
    "    a.append(data[0][0])\n",
    "    alpha.append(data[1][0])\n",
    "    b.append(data[2][0])\n",
    "    beta.append(data[3][0])\n",
    "\n",
    "\n",
    "def distribution(x, a, alpha, b, beta):\n",
    "    return a*(x**alpha)*np.exp(-b*(x**beta))"
   ]
  },
  {
   "cell_type": "code",
   "execution_count": 6,
   "metadata": {},
   "outputs": [
    {
     "data": {
      "text/plain": [
       "[3.35740073082372,\n",
       " 3.35530047662223,\n",
       " 3.36810042819539,\n",
       " 3.44553859309805,\n",
       " 3.59194433241422,\n",
       " 3.89563086382039,\n",
       " 5.10754473648372,\n",
       " 14.0553340404903]"
      ]
     },
     "execution_count": 6,
     "metadata": {},
     "output_type": "execute_result"
    }
   ],
   "source": [
    "a"
   ]
  },
  {
   "cell_type": "code",
   "execution_count": 7,
   "metadata": {},
   "outputs": [
    {
     "data": {
      "text/plain": [
       "[1.31479514532526,\n",
       " 1.31449916396975,\n",
       " 1.31854748012557,\n",
       " 1.34304030649198,\n",
       " 1.38953962994789,\n",
       " 1.47866488056657,\n",
       " 1.77407313671586,\n",
       " 2.8449055443227]"
      ]
     },
     "execution_count": 7,
     "metadata": {},
     "output_type": "execute_result"
    }
   ],
   "source": [
    "b"
   ]
  },
  {
   "cell_type": "code",
   "execution_count": 8,
   "metadata": {},
   "outputs": [
    {
     "data": {
      "text/plain": [
       "[1.95590367100242,\n",
       " 1.9566492536886,\n",
       " 1.95507633864006,\n",
       " 1.93706697294175,\n",
       " 1.90415886679865,\n",
       " 1.84496887627572,\n",
       " 1.67360016750083,\n",
       " 1.32010821103149]"
      ]
     },
     "execution_count": 8,
     "metadata": {},
     "output_type": "execute_result"
    }
   ],
   "source": [
    "beta"
   ]
  },
  {
   "cell_type": "code",
   "execution_count": 9,
   "metadata": {},
   "outputs": [
    {
     "data": {
      "text/plain": [
       "[2.01460344907661,\n",
       " 2.01013323860852,\n",
       " 2.01107642354898,\n",
       " 2.02274989744634,\n",
       " 2.03950077548869,\n",
       " 2.07763994026452,\n",
       " 2.21254536830112,\n",
       " 2.6001583494858]"
      ]
     },
     "execution_count": 9,
     "metadata": {},
     "output_type": "execute_result"
    }
   ],
   "source": [
    "alpha"
   ]
  },
  {
   "cell_type": "code",
   "execution_count": 19,
   "metadata": {},
   "outputs": [],
   "source": [
    "def wigner(x):\n",
    "    return 2*(4*x/np.pi)**2 *np.exp( -(4/np.pi)* x**2)"
   ]
  },
  {
   "cell_type": "code",
   "execution_count": 21,
   "metadata": {},
   "outputs": [
    {
     "data": {
      "image/png": "[encoded data removed]",
      "text/plain": [
       "<Figure size 720x504 with 1 Axes>"
      ]
     },
     "metadata": {
      "needs_background": "light"
     },
     "output_type": "display_data"
    }
   ],
   "source": [
    "x = np.linspace(0,4, 100)\n",
    "wig = wigner(x)\n",
    "f, ax1 = plt.subplots(figsize=(10,7))\n",
    "\n",
    "for i in range(len(param_files)):\n",
    "    y = distribution(x, a[i], alpha[i], b[i], beta[i])\n",
    "    ax1.plot(x, y, label =interv_str[i],linestyle='--')\n",
    "\n",
    "ax1.plot(x, wig, label ='Wigner sumrise',linestyle='-')\n",
    "ax1.set(xlabel='Spacing Eigenvalues', ylabel='Count',\n",
    "       title='Spectral eigenvalues of matrix 2500 x 2500')\n",
    "        \n",
    "legend = ax1.legend(loc='upper right', shadow=True, fontsize='x-large', title='Local pacing')\n",
    "plt.savefig('Fitted.png', dpi=300, bbox_inches='tight')\n",
    "plt.show()"
   ]
  },
  {
   "cell_type": "markdown",
   "metadata": {},
   "source": [
    "## Diagonal"
   ]
  },
  {
   "cell_type": "code",
   "execution_count": 166,
   "metadata": {},
   "outputs": [],
   "source": [
    "#diagonal\n",
    "data = np.loadtxt(\"eigen_space_diag.txt\")\n",
    "hist, bin_edges =np.histogram(data, density = 1, bins  =500)\n",
    "bin_centres = (bin_edges[1:]+bin_edges[:-1])/2\n",
    "graph_ = pd.DataFrame([bin_centres, hist]).T\n",
    "#graph_.columns  = ['bins', 'frequ']\n",
    "#graph_ = graph_.sort_values('frequ', ascending = False)\n",
    "graph_.to_csv(str(\"hist_diag.txt\"), header=None, index=None, sep=\"\\t\")"
   ]
  },
  {
   "cell_type": "code",
   "execution_count": 167,
   "metadata": {},
   "outputs": [],
   "source": [
    "#implemented the gnuplot FIT in ptyhon with the different methods with cubic fit.\n",
    "in_files = [\"hist_diag.txt\"]\n",
    "out_files = [\"hist_diag.pdf\"]\n",
    "for i in range(1):\n",
    "    fl = open(\"fit_file.txt\", \"w+\")\n",
    "    fl.write(in_files[i])\n",
    "    fl.close()\n",
    "    \n",
    "    fn = open(\"out_file.txt\", \"w+\")\n",
    "    fn.write(out_files[i])\n",
    "    fn.close()\n",
    "    subprocess.call([\"gnuplot\",\"Ex5_fit.gp\"])"
   ]
  },
  {
   "cell_type": "markdown",
   "metadata": {},
   "source": [
    "### Local spacing"
   ]
  },
  {
   "cell_type": "code",
   "execution_count": 184,
   "metadata": {},
   "outputs": [
    {
     "data": {
      "text/plain": [
       "['0005', '0025', '0050', '0200', '0250']"
      ]
     },
     "execution_count": 184,
     "metadata": {},
     "output_type": "execute_result"
    }
   ],
   "source": [
    "n = 2500\n",
    "intervals = [n/500, n/100, n/50, 200.0, n/10]\n",
    "\n",
    "interv_str = []\n",
    "for i in range(len(intervals)):\n",
    "    inter = \"%04d\" % intervals[i]\n",
    "    interv_str.append(inter)\n",
    "\n",
    "interv_str"
   ]
  },
  {
   "cell_type": "code",
   "execution_count": 160,
   "metadata": {},
   "outputs": [],
   "source": [
    "in_files = []\n",
    "out_files  =[]\n",
    "for i in interv_str:\n",
    "    data = np.loadtxt(\"Results/local_space_diag_\"+str(i)+\".txt\")\n",
    "    hist, bin_edges =np.histogram(data, density = 1, bins  =200)\n",
    "    bin_centres = (bin_edges[1:]+bin_edges[:-1])/2\n",
    "    graph_ = pd.DataFrame([bin_centres, hist]).T\n",
    "    graph_.to_csv(str(\"hist_local_diag\"+str(i)+\".txt\"), header=None, index=None, sep=\"\\t\")\n",
    "    in_files.append(\"hist_local_diag\"+str(i)+\".txt\")\n",
    "    out_files.append(\"hist_local_diag\"+str(i)+\".pdf\")"
   ]
  },
  {
   "cell_type": "code",
   "execution_count": 179,
   "metadata": {},
   "outputs": [
    {
     "data": {
      "text/plain": [
       "0"
      ]
     },
     "execution_count": 179,
     "metadata": {},
     "output_type": "execute_result"
    }
   ],
   "source": [
    "#implemented the gnuplot FIT in ptyhon with the different methods with cubic fit.\n",
    "for i in range(len(intervals)):\n",
    "    fl = open(\"fit_file.txt\", \"w+\")\n",
    "    fl.write(in_files[i])\n",
    "    fl.close()\n",
    "    \n",
    "    fn = open(\"out_file.txt\", \"w+\")\n",
    "    fn.write(out_files[i])\n",
    "    fn.close()\n",
    "    subprocess.call([\"gnuplot\",\"Ex5_fit.gp\"])"
   ]
  },
  {
   "cell_type": "markdown",
   "metadata": {},
   "source": [
    "## ratios"
   ]
  },
  {
   "cell_type": "code",
   "execution_count": 28,
   "metadata": {},
   "outputs": [
    {
     "data": {
      "text/plain": [
       "0.5995294796286627"
      ]
     },
     "execution_count": 28,
     "metadata": {},
     "output_type": "execute_result"
    }
   ],
   "source": [
    "#for hermitian\n",
    "np.loadtxt(\"ratio.txt\").mean()"
   ]
  },
  {
   "cell_type": "code",
   "execution_count": 101,
   "metadata": {},
   "outputs": [
    {
     "data": {
      "text/plain": [
       "0.3864954831952835"
      ]
     },
     "execution_count": 101,
     "metadata": {},
     "output_type": "execute_result"
    }
   ],
   "source": [
    "#for diagonalize\n",
    "np.loadtxt(\"ratio_diag.txt\").mean()"
   ]
  },
  {
   "cell_type": "code",
   "execution_count": null,
   "metadata": {},
   "outputs": [],
   "source": []
  }
 ],
 "metadata": {
  "kernelspec": {
   "display_name": "Python 3",
   "language": "python",
   "name": "python3"
  },
  "language_info": {
   "codemirror_mode": {
    "name": "ipython",
    "version": 3
   },
   "file_extension": ".py",
   "mimetype": "text/x-python",
   "name": "python",
   "nbconvert_exporter": "python",
   "pygments_lexer": "ipython3",
   "version": "3.7.7"
  }
 },
 "nbformat": 4,
 "nbformat_minor": 4
}
