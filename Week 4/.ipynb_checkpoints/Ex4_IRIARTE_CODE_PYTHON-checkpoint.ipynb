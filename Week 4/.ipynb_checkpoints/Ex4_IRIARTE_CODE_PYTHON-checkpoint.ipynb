{
 "cells": [
  {
   "cell_type": "markdown",
   "metadata": {},
   "source": [
    "# Exercise 4\n",
    "\n",
    "## Multi-run script\n",
    "#### Write a python script that changes N between two values Nmin and Nmax, and launches the program. Store the results in different files depending on the multiplication"
   ]
  },
  {
   "cell_type": "code",
   "execution_count": 1,
   "metadata": {},
   "outputs": [],
   "source": [
    "import numpy as np\n",
    "import matplotlib.pyplot as plt\n",
    "import sys\n",
    "import os\n",
    "import subprocess"
   ]
  },
  {
   "cell_type": "code",
   "execution_count": 125,
   "metadata": {},
   "outputs": [],
   "source": [
    "#set the parameters of the sixe of the matrix. For simplicity we consider a matrix nxn times a matrix nxn\n",
    "N_min = 10\n",
    "N_max = 1500\n",
    "N_step = 25"
   ]
  },
  {
   "cell_type": "code",
   "execution_count": 126,
   "metadata": {},
   "outputs": [],
   "source": [
    "def fortran_loop(N_min, N_max, N_step):\n",
    "    #Performs the matrix x matrix fortran code and return the values into this Python file.\n",
    "    results = []\n",
    "    for i in range (N_min, N_max, N_step):\n",
    "        fn = open(\"input_data.dat\", \"w\")\n",
    "        fn.write(str(i))\n",
    "        fn.close()\n",
    "\n",
    "        bash_results = subprocess.run([\"./p2\", str(i)], stdout=subprocess.PIPE)\n",
    "        splits = bash_results.stdout.decode('utf-8').lstrip().split('\\n')\n",
    "        print(splits[0:3])\n",
    "        to_float = np.array([float(tm) for tm in splits[0:3]])\n",
    "        results.append(to_float)\n",
    "    \n",
    "    return results"
   ]
  },
  {
   "cell_type": "code",
   "execution_count": 127,
   "metadata": {},
   "outputs": [
    {
     "name": "stdout",
     "output_type": "stream",
     "text": [
      "['7.3999999999999760E-004', '   9.9999999999995925E-006', '   9.9999999999995925E-006']\n",
      "['9.5999999999998864E-005', '   2.0300000000000006E-004', '   2.0099999999999979E-004']\n",
      "['1.6300000000000169E-004', '   1.0350000000000012E-003', '   1.0050000000000007E-003']\n",
      "['1.4090000000000005E-003', '   6.8549999999999965E-003', '   2.8399999999999988E-003']\n",
      "['7.6999999999999985E-004', '   6.2519999999999989E-003', '   6.3919999999999984E-003']\n",
      "['9.0900000000000009E-004', '   1.2537000000000001E-002', '   1.2276000000000002E-002']\n",
      "['1.0840000000000008E-003', '   2.2967999999999995E-002', '   2.4899999999999999E-002']\n",
      "['1.8399999999999996E-003', '   4.1152000000000001E-002', '   3.6235000000000003E-002']\n",
      "['2.3919999999999983E-003', '   4.8544999999999998E-002', '   4.5240999999999990E-002']\n",
      "['3.4630000000000008E-003', '   6.2359999999999999E-002', '   8.1360000000000002E-002']\n",
      "['6.7899999999999992E-003', '   9.8681999999999992E-002', '   8.0936999999999995E-002']\n",
      "['5.4159999999999989E-003', '  0.17077500000000001     ', '  0.14623000000000000     ']\n",
      "['7.8399999999999997E-003', '  0.19819899999999999     ', '  0.15276899999999999     ']\n",
      "['1.0559000000000001E-002', '  0.22388899999999998     ', '  0.23281799999999997     ']\n",
      "['1.0906000000000001E-002', '  0.28842099999999998     ', '  0.31147699999999995     ']\n",
      "['1.2201000000000000E-002', '  0.30269000000000001     ', '  0.27859199999999995     ']\n",
      "['1.5476999999999999E-002', '  0.39560499999999998     ', '  0.36328800000000000     ']\n",
      "['1.8290999999999998E-002', '  0.46286400000000000     ', '  0.41843699999999995     ']\n",
      "['2.1655000000000001E-002', '  0.60200799999999999     ', '  0.53929800000000006     ']\n",
      "['2.3216999999999995E-002', '  0.73013999999999990     ', '  0.68842700000000001     ']\n",
      "['2.6107999999999996E-002', '  0.85427899999999990     ', '  0.87716899999999987     ']\n",
      "['3.4884999999999999E-002', '   1.9338879999999998     ', '   1.6893729999999998     ']\n",
      "['4.4475000000000001E-002', '   2.5227750000000002     ', '   2.6168089999999999     ']\n",
      "['4.2079000000000005E-002', '   3.4628609999999997     ', '   3.3222229999999997     ']\n",
      "['4.8357999999999998E-002', '   3.5503320000000000     ', '   3.2325279999999998     ']\n",
      "['5.0716999999999998E-002', '   4.1470859999999998     ', '   4.0707960000000005     ']\n",
      "['5.2980999999999993E-002', '   5.2898240000000003     ', '   5.6031129999999996     ']\n",
      "['6.3077999999999995E-002', '   6.0179939999999998     ', '   5.8415380000000008     ']\n",
      "['0.10692799999999998     ', '   8.5237490000000005     ', '   7.3007639999999991     ']\n",
      "['8.3524000000000001E-002', '   7.9263210000000006     ', '   7.8651440000000008     ']\n",
      "['0.29633299999999996     ', '   8.5307389999999987     ', '   8.2044110000000003     ']\n",
      "['9.8811999999999997E-002', '   10.102295999999999     ', '   9.6197719999999993     ']\n",
      "['0.10387799999999998     ', '   10.263983000000001     ', '   10.325218000000000     ']\n",
      "['0.12495899999999999     ', '   11.192079999999999     ', '   10.885076000000000     ']\n",
      "['0.12083099999999999     ', '   12.327831999999999     ', '   12.114802000000001     ']\n",
      "['0.14906600000000000     ', '   12.118776000000000     ', '   11.603300000000001     ']\n",
      "['0.23393100000000000     ', '   15.652149000000000     ', '   16.091481000000002     ']\n",
      "['0.17953599999999997     ', '   22.205216000000000     ', '   23.723770999999999     ']\n",
      "['0.18097799999999997     ', '   18.545437999999997     ', '   19.162872999999998     ']\n",
      "['0.19686199999999998     ', '   21.462574999999998     ', '   19.203093999999997     ']\n",
      "['0.21794900000000000     ', '   20.589088999999998     ', '   20.796366999999996     ']\n",
      "['0.25195299999999998     ', '   21.755602999999997     ', '   23.135255000000004     ']\n",
      "['0.29249100000000000     ', '   26.600891999999998     ', '   24.074224999999998     ']\n",
      "['0.28402300000000003     ', '   26.231589000000000     ', '   26.869826999999997     ']\n",
      "['0.31697399999999998     ', '   29.466424000000000     ', '   34.626550000000009     ']\n",
      "['0.33536599999999994     ', '   33.598367000000003     ', '   36.072258999999995     ']\n",
      "['0.35543099999999994     ', '   36.224769000000002     ', '   36.306128999999991     ']\n",
      "['0.42702699999999999     ', '   35.162907000000004     ', '   35.546104999999997     ']\n",
      "['0.39121299999999998     ', '   39.762264999999999     ', '   41.236154000000006     ']\n",
      "['0.43134699999999998     ', '   41.293413000000001     ', '   41.431577999999995     ']\n",
      "['0.39746999999999999     ', '   43.500452000000003     ', '   44.107649000000002     ']\n",
      "['0.44135000000000002     ', '   50.567530000000005     ', '   48.960757999999998     ']\n",
      "['0.48227599999999993     ', '   49.444058000000005     ', '   54.570381000000005     ']\n",
      "['0.61453799999999992     ', '   66.449273999999988     ', '   59.816029999999998     ']\n",
      "['0.50917000000000001     ', '   62.445586000000006     ', '   64.596924000000001     ']\n",
      "['0.66410399999999992     ', '   73.046319999999994     ', '   66.116807000000009     ']\n",
      "['0.87430799999999997     ', '   70.178021000000001     ', '   67.688580999999999     ']\n",
      "['0.61659699999999995     ', '   69.926614999999998     ', '   69.541149000000004     ']\n",
      "['0.59158999999999995     ', '   74.004204999999999     ', '   74.229507999999996     ']\n",
      "['0.67824399999999996     ', '   82.266237999999987     ', '   94.792921999999990     ']\n"
     ]
    }
   ],
   "source": [
    "results = fortran_loop(N_min, N_max, N_step)"
   ]
  },
  {
   "cell_type": "code",
   "execution_count": 128,
   "metadata": {},
   "outputs": [],
   "source": [
    "matmul = []\n",
    "mat_1 = []\n",
    "mat_2 = []\n",
    "j = 0\n",
    "#saving data\n",
    "for i in range(N_min, N_max, N_step):\n",
    "    matmul.append([i, results[j][0]])\n",
    "    mat_1.append([i, results[j][1]])\n",
    "    mat_2.append([i, results[j][2]])\n",
    "    j += 1\n",
    "\n",
    "np.savetxt('matmul.txt', matmul)\n",
    "np.savetxt('mat_1.txt', mat_1)\n",
    "np.savetxt('mat_2.txt', mat_2)"
   ]
  },
  {
   "cell_type": "markdown",
   "metadata": {},
   "source": [
    "Run again but this time with -Ofast"
   ]
  },
  {
   "cell_type": "code",
   "execution_count": 117,
   "metadata": {},
   "outputs": [
    {
     "name": "stdout",
     "output_type": "stream",
     "text": [
      "['5.9999999999999290E-006', '   2.0000000000002655E-006', '   1.9999999999993981E-006']\n",
      "['9.7999999999999997E-005', '   3.7999999999999839E-005', '   3.4000000000000176E-005']\n",
      "['1.9100000000000020E-004', '   1.6599999999999948E-004', '   1.6199999999999895E-004']\n",
      "['3.4599999999999995E-004', '   4.8599999999999945E-004', '   5.0399999999999924E-004']\n",
      "['8.2499999999999934E-004', '   9.8499999999999976E-004', '   9.6399999999999958E-004']\n",
      "['3.1049999999999984E-003', '   4.2930000000000017E-003', '   2.1779999999999994E-003']\n",
      "['1.3540000000000010E-003', '   5.3439999999999998E-003', '   7.4549999999999998E-003']\n",
      "['1.7270000000000011E-003', '   5.3959999999999998E-003', '   5.1959999999999975E-003']\n",
      "['3.1619999999999999E-003', '   1.4593999999999999E-002', '   8.8820000000000010E-003']\n",
      "['3.6609999999999993E-003', '   1.9214000000000002E-002', '   1.8109000000000000E-002']\n",
      "['1.1466999999999991E-002', '   3.1576999999999994E-002', '   2.5993000000000016E-002']\n",
      "['5.5689999999999976E-003', '   2.8665999999999997E-002', '   2.1961000000000008E-002']\n",
      "['7.4329999999999986E-003', '   3.4353999999999996E-002', '   2.8733999999999996E-002']\n",
      "['1.0827000000000002E-002', '   4.4920999999999996E-002', '   5.7345999999999994E-002']\n",
      "['9.8349999999999983E-003', '   4.2927999999999994E-002', '   3.8713999999999998E-002']\n",
      "['1.1905000000000001E-002', '   5.8992000000000003E-002', '   7.5571999999999986E-002']\n",
      "['1.4257000000000001E-002', '   9.2419000000000001E-002', '  0.11536500000000000     ']\n",
      "['2.1399999999999999E-002', '   8.7490999999999999E-002', '  0.15161300000000000     ']\n",
      "['2.0292999999999999E-002', '  0.11476500000000001     ', '  0.14167800000000000     ']\n",
      "['2.4081999999999999E-002', '  0.25425499999999995     ', '  0.18036000000000002     ']\n",
      "['3.1823000000000004E-002', '  0.30164499999999994     ', '  0.31738700000000003     ']\n",
      "['3.9928999999999999E-002', '   1.4394950000000002     ', '   1.3988810000000000     ']\n",
      "['3.6712999999999996E-002', '   2.6861079999999999     ', '   2.6768749999999999     ']\n",
      "['4.1072999999999998E-002', '   3.9060660000000000     ', '   3.7827210000000000     ']\n",
      "['4.4530999999999994E-002', '   3.6795910000000003     ', '   3.7639899999999997     ']\n",
      "['6.0512999999999997E-002', '   5.4527619999999999     ', '   4.7976709999999994     ']\n",
      "['6.4710000000000004E-002', '   5.4890760000000007     ', '   5.4198060000000003     ']\n",
      "['6.5863000000000005E-002', '   5.7118120000000001     ', '   5.7806719999999991     ']\n",
      "['7.1022999999999989E-002', '   7.5382889999999998     ', '   7.5268400000000000     ']\n",
      "['0.10434099999999999     ', '   8.2414369999999995     ', '   7.9085210000000004     ']\n",
      "['0.10061700000000000     ', '   9.3756159999999991     ', '   9.7086290000000002     ']\n",
      "['9.6673999999999982E-002', '   9.0607910000000000     ', '   8.9985229999999987     ']\n",
      "['0.10498399999999999     ', '   10.921900000000001     ', '   11.064754999999998     ']\n",
      "['0.11688099999999998     ', '   12.107030000000000     ', '   12.092675999999999     ']\n",
      "['0.11185999999999999     ', '   13.022076999999999     ', '   13.124097000000001     ']\n",
      "['0.13779000000000000     ', '   12.213573999999999     ', '   12.185878999999998     ']\n",
      "['0.13644699999999998     ', '   14.794783000000001     ', '   14.628443000000001     ']\n",
      "['0.15271699999999999     ', '   17.371561000000000     ', '   17.338082000000000     ']\n",
      "['0.15409099999999998     ', '   19.489115999999999     ', '   19.422938000000002     ']\n",
      "['0.17719299999999999     ', '   20.831855999999998     ', '   20.785879999999999     ']\n",
      "['0.19814999999999999     ', '   22.643425000000001     ', '   22.960967000000004     ']\n",
      "['0.22966200000000001     ', '   24.747095999999999     ', '   24.828861000000000     ']\n",
      "['0.25169000000000002     ', '   26.697524000000001     ', '   26.547148999999997     ']\n",
      "['0.27758399999999994     ', '   28.588629999999998     ', '   28.502606999999998     ']\n",
      "['0.27615400000000001     ', '   30.899142000000001     ', '   30.353186000000001     ']\n",
      "['0.30798499999999995     ', '   33.130369999999999     ', '   33.115537000000003     ']\n",
      "['0.30603399999999997     ', '   34.059176000000001     ', '   34.218745000000006     ']\n",
      "['0.33211299999999999     ', '   38.340964000000000     ', '   38.141283000000008     ']\n",
      "['0.35836399999999996     ', '   40.524066999999995     ', '   40.754606000000003     ']\n",
      "['0.36693599999999998     ', '   43.518469000000003     ', '   43.931285999999993     ']\n",
      "['0.38345000000000001     ', '   45.809726999999995     ', '   45.441025999999994     ']\n",
      "['0.43562499999999998     ', '   49.850292000000003     ', '   49.725713000000006     ']\n",
      "['0.43414999999999998     ', '   53.453678000000004     ', '   51.511708000000006     ']\n",
      "['0.46389999999999998     ', '   57.771563999999998     ', '   58.429914999999994     ']\n",
      "['0.54869699999999999     ', '   62.975177000000002     ', '   62.742006000000003     ']\n",
      "['0.51698900000000003     ', '   65.638754000000006     ', '   66.073294000000004     ']\n",
      "['0.51940100000000000     ', '   70.304455000000004     ', '   70.192066999999994     ']\n",
      "['0.56656200000000001     ', '   74.941968000000003     ', '   75.084122000000008     ']\n",
      "['0.57652699999999990     ', '   79.209690999999992     ', '   79.241279000000006     ']\n",
      "['0.60574400000000006     ', '   88.843297999999990     ', '   86.266711000000001     ']\n"
     ]
    }
   ],
   "source": [
    "results_Ofast = fortran_loop(N_min, N_max, N_step)"
   ]
  },
  {
   "cell_type": "code",
   "execution_count": 124,
   "metadata": {},
   "outputs": [],
   "source": [
    "matmul = []\n",
    "mat_1 = []\n",
    "mat_2 = []\n",
    "j = 0\n",
    "#saving in file\n",
    "for i in range(N_min, N_max, N_step):\n",
    "    matmul.append([i, results_Ofast[j][0]])\n",
    "    mat_1.append([i, results_Ofast[j][1]])\n",
    "    mat_2.append([i, results_Ofast[j][2]])\n",
    "    j += 1\n",
    "\n",
    "np.savetxt('matmul_Ofast.txt', matmul)\n",
    "np.savetxt('mat_1_Ofast.txt', mat_1)\n",
    "np.savetxt('mat_2_Ofast.txt', mat_2)"
   ]
  },
  {
   "cell_type": "markdown",
   "metadata": {},
   "source": [
    "## Automated fits"
   ]
  },
  {
   "cell_type": "markdown",
   "metadata": {},
   "source": [
    "Fit the scaling of the time needed for different methods as a function of the input size. Consider\n",
    "the biggest possible difference between Nmin and Nmax."
   ]
  },
  {
   "cell_type": "code",
   "execution_count": 152,
   "metadata": {},
   "outputs": [],
   "source": [
    "#implemented the gnuplot FIT in ptyhon with the different methods with cubic fit.\n",
    "in_files = [\"matmul.txt\", \"mat_1.txt\", \"mat_2.txt\"]\n",
    "out_files = [\"matmul_fit.pdf\", \"mat_1_fit.pdf\", \"mat_2_fit.pdf\"]\n",
    "for i in range(3):\n",
    "    fl = open(\"fit_file.txt\", \"w+\")\n",
    "    fl.write(in_files[i])\n",
    "    fl.close()\n",
    "    \n",
    "    fn = open(\"out_file.txt\", \"w+\")\n",
    "    fn.write(out_files[i])\n",
    "    fn.close()\n",
    "    subprocess.call([\"gnuplot\",\"Ex4_fit.gp\"])"
   ]
  },
  {
   "cell_type": "code",
   "execution_count": 170,
   "metadata": {},
   "outputs": [],
   "source": [
    "#implemented the gnuplot FIT in ptyhon with the different methods, but this time using logarithm and linear fit.\n",
    "in_files = [\"matmul.txt\", \"mat_1.txt\", \"mat_2.txt\"]\n",
    "out_files = [\"matmul_logfit.pdf\", \"mat_1_logfit.pdf\", \"mat_2_logfit.pdf\"]\n",
    "for i in range(3):\n",
    "    fl = open(\"fit_file.txt\", \"w+\")\n",
    "    fl.write(in_files[i])\n",
    "    fl.close()\n",
    "    \n",
    "    fn = open(\"out_file.txt\", \"w+\")\n",
    "    fn.write(out_files[i])\n",
    "    fn.close()\n",
    "    bash_results = subprocess.call([\"gnuplot\",\"Ex4_fit_log.gp\"])\n"
   ]
  },
  {
   "cell_type": "code",
   "execution_count": 182,
   "metadata": {},
   "outputs": [],
   "source": [
    "def cub(x, model, log = False):\n",
    "    #function that returns the parameters obtained by fitting in gnuplot.\n",
    "    if model == matmul: data = np.loadtxt('parametersmatmul.txt')\n",
    "    elif model == mat_1: data = np.loadtxt('parametersmat_1.txt')\n",
    "    elif model == mat_2: data = np.loadtxt('parametersmat_2.txt')\n",
    "        \n",
    "    a = data[0][0]\n",
    "    b = data[1][0]\n",
    "    c = data[2][0]\n",
    "    d = data[3][0]\n",
    "    \n",
    "    result = a +b *x + c * x**2 + d * x **3\n",
    "    \n",
    "    if log == True:\n",
    "        if model == matmul: data = np.loadtxt('logparametersmatmul.txt')\n",
    "        elif model == mat_1: data = np.loadtxt('logparametersmat_1.txt')\n",
    "        elif model == mat_2: data = np.loadtxt('logparametersmat_2.txt')\n",
    "        a = data[0][0]\n",
    "        b = data[1][0]\n",
    "        \n",
    "        result = a +b *x\n",
    "    return result"
   ]
  },
  {
   "cell_type": "code",
   "execution_count": 225,
   "metadata": {},
   "outputs": [],
   "source": [
    "x = np.linspace(100,10000, 100)\n",
    "matml =cub(x, matmul)\n",
    "matt1 = cub(x, mat_1)\n",
    "matt2 = cub(x, mat_2)"
   ]
  },
  {
   "cell_type": "code",
   "execution_count": 234,
   "metadata": {},
   "outputs": [
    {
     "data": {
      "image/png": "[encoded data removed]",
      "text/plain": [
       "<Figure size 504x504 with 1 Axes>"
      ]
     },
     "metadata": {
      "needs_background": "light"
     },
     "output_type": "display_data"
    }
   ],
   "source": [
    "f, ax1 = plt.subplots(figsize=(7,7))\n",
    "ax1.plot(x, matml, label ='matmul')\n",
    "ax1.set(xlabel='N', ylabel='time',\n",
    "       title='Fit model')\n",
    "        \n",
    "ax1.plot(x, matt1, label ='mat_1')\n",
    "ax1.plot(x, matt2,  label ='mat_2')\n",
    "\n",
    "legend = ax1.legend(loc='upper center', shadow=True, fontsize='x-large')\n",
    "plt.savefig('Fitted.png', dpi=300, bbox_inches='tight')\n",
    "plt.show()"
   ]
  },
  {
   "cell_type": "code",
   "execution_count": 235,
   "metadata": {},
   "outputs": [
    {
     "data": {
      "image/png": "[encoded data removed]",
      "text/plain": [
       "<Figure size 504x504 with 1 Axes>"
      ]
     },
     "metadata": {
      "needs_background": "light"
     },
     "output_type": "display_data"
    }
   ],
   "source": [
    "x = np.linspace(10,800, 100)\n",
    "matml =cub(x, matmul, log = True)\n",
    "matt1 = cub(x, mat_1, log = True)\n",
    "matt2 = cub(x, mat_2, log = True)\n",
    "\n",
    "f, ax1 = plt.subplots(figsize=(7,7))\n",
    "ax1.plot(x, matml, label ='matmul')\n",
    "ax1.set(xlabel='N', ylabel='time',\n",
    "       title='Fit model in logarithmic')\n",
    "        \n",
    "ax1.plot(x, matt1, label ='mat_1')\n",
    "ax1.plot(x, matt2,  label ='mat_2')\n",
    "\n",
    "legend = ax1.legend(loc='upper center', shadow=True, fontsize='x-large')\n",
    "plt.savefig('fitted_log.png', dpi=300, bbox_inches='tight')\n",
    "\n",
    "\n",
    "plt.show()\n"
   ]
  },
  {
   "cell_type": "code",
   "execution_count": null,
   "metadata": {},
   "outputs": [],
   "source": [
    "x = np.linspace(2,4)\n",
    "y = [0.16663885116577148, 1.452146291732788, 65.60178971290588,  ]\n",
    "\n",
    "f, ax1 = plt.subplots(figsize=(7,7))\n",
    "ax1.plot(x, matml, label ='matmul')\n",
    "ax1.set(xlabel='N', ylabel='time',\n",
    "       title='Fit model in logarithmic')\n",
    "        \n",
    "ax1.plot(x, matt1, label ='mat_1')\n",
    "ax1.plot(x, matt2,  label ='mat_2')\n",
    "\n",
    "legend = ax1.legend(loc='upper center', shadow=True, fontsize='x-large')\n",
    "\n",
    "plt.show()\n"
   ]
  }
 ],
 "metadata": {
  "kernelspec": {
   "display_name": "Python 3",
   "language": "python",
   "name": "python3"
  },
  "language_info": {
   "codemirror_mode": {
    "name": "ipython",
    "version": 3
   },
   "file_extension": ".py",
   "mimetype": "text/x-python",
   "name": "python",
   "nbconvert_exporter": "python",
   "pygments_lexer": "ipython3",
   "version": "3.7.7"
  }
 },
 "nbformat": 4,
 "nbformat_minor": 4
}
