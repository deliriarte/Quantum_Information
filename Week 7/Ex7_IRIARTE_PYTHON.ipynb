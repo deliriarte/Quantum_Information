{
 "cells": [
  {
   "cell_type": "code",
   "execution_count": 1,
   "metadata": {},
   "outputs": [],
   "source": [
    "import numpy as np\n",
    "import pandas as pd\n",
    "import matplotlib.pyplot as plt\n",
    "from scipy import stats\n",
    "import subprocess\n",
    "import os.path\n",
    "import math"
   ]
  },
  {
   "cell_type": "code",
   "execution_count": 3,
   "metadata": {},
   "outputs": [],
   "source": [
    "#parameters\n",
    "N = 1000\n",
    "L = 10\n",
    "T_max = 1\n",
    "n_times = 300\n",
    "\n",
    "#for N in NN:\n",
    "dx = 2*L/(N-1)\n",
    "ofile = open(\"L.txt\", \"w+\")\n",
    "ofile.write(str(L))\n",
    "ofile.close()\n",
    "\n",
    "ofile = open(\"mesh.txt\", \"w+\")\n",
    "ofile.write(str(N))\n",
    "ofile.close()\n",
    "\n",
    "ofile = open(\"total_time.txt\", \"w+\")\n",
    "ofile.write(str(T_max))\n",
    "ofile.close()\n",
    "\n",
    "ofile = open(\"time_split.txt\", \"w+\")\n",
    "ofile.write(str(n_times))\n",
    "ofile.close()\n",
    "\n",
    "\n",
    "\n",
    "result = subprocess.run(['./p2'], stdout=subprocess.PIPE)\n"
   ]
  }
 ],
 "metadata": {
  "kernelspec": {
   "display_name": "Python 3",
   "language": "python",
   "name": "python3"
  },
  "language_info": {
   "codemirror_mode": {
    "name": "ipython",
    "version": 3
   },
   "file_extension": ".py",
   "mimetype": "text/x-python",
   "name": "python",
   "nbconvert_exporter": "python",
   "pygments_lexer": "ipython3",
   "version": "3.8.3"
  }
 },
 "nbformat": 4,
 "nbformat_minor": 4
}
