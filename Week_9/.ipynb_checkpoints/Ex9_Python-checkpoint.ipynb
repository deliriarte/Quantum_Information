{
 "cells": [
  {
   "cell_type": "markdown",
   "metadata": {},
   "source": [
    "# Exercise 9\n",
    "\n",
    "## Multi-run script\n"
   ]
  },
  {
   "cell_type": "code",
   "execution_count": 1,
   "metadata": {},
   "outputs": [],
   "source": [
    "import numpy as np\n",
    "import matplotlib.pyplot as plt\n",
    "import sys\n",
    "import os\n",
    "import subprocess"
   ]
  },
  {
   "cell_type": "code",
   "execution_count": 6,
   "metadata": {},
   "outputs": [
    {
     "name": "stdout",
     "output_type": "stream",
     "text": [
      "2\n",
      "3\n",
      "4\n",
      "5\n",
      "6\n",
      "7\n",
      "8\n",
      "9\n"
     ]
    }
   ],
   "source": [
    "#number of particles - This was the maximum obtained\n",
    "N = 10\n",
    "\n",
    "#dimension of the hamiltonian\n",
    "dim = 2\n",
    "\n",
    "for i in range (2,N):\n",
    "    print(i)\n",
    "    ofile = open(\"N.txt\", \"w+\")\n",
    "    ofile.write(str(i))\n",
    "    ofile.close()\n",
    "\n",
    "    ofile = open(\"file.txt\", \"w+\")\n",
    "    ofile.write(\"file.pdf\")\n",
    "    ofile.close()\n",
    "    \n",
    "    ofile = open(\"hamiltonian_dimension.txt\", \"w+\")\n",
    "    ofile.write(str(dim))\n",
    "    ofile.close()\n",
    "    \n",
    "    ofile = open(\"n_particles.txt\", \"w+\")\n",
    "    ofile.write(str(i))\n",
    "    ofile.close()\n",
    "    \n",
    "    bash_results = subprocess.run([\"./p9\", str(i)], stdout=subprocess.PIPE)"
   ]
  },
  {
   "cell_type": "code",
   "execution_count": 7,
   "metadata": {},
   "outputs": [],
   "source": [
    "files = []\n",
    "out_files =[]\n",
    "for i in range(2, N):\n",
    "    files.append(\"results_\"+str(i)+\".txt\")\n",
    "    out_files.append(\"results_\"+str(i)+\".pdf\")"
   ]
  },
  {
   "cell_type": "code",
   "execution_count": 10,
   "metadata": {},
   "outputs": [],
   "source": [
    "#plotting first four eigenvalues for each case in gnuplot\n",
    "for i in range(len(files)):\n",
    "    ofile = open(\"N.txt\", \"w+\")\n",
    "    ofile.write(str(i))\n",
    "    ofile.close()\n",
    "\n",
    "    fl = open(\"in_file.txt\", \"w+\")\n",
    "    fl.write(files[i])\n",
    "    fl.close()\n",
    "    \n",
    "    fn = open(\"file.txt\", \"w+\")\n",
    "    fn.write(out_files[i])\n",
    "    fn.close()\n",
    "    subprocess.call([\"gnuplot\",\"Ex9.gp\"])"
   ]
  },
  {
   "cell_type": "code",
   "execution_count": null,
   "metadata": {},
   "outputs": [],
   "source": []
  }
 ],
 "metadata": {
  "kernelspec": {
   "display_name": "Python 3",
   "language": "python",
   "name": "python3"
  },
  "language_info": {
   "codemirror_mode": {
    "name": "ipython",
    "version": 3
   },
   "file_extension": ".py",
   "mimetype": "text/x-python",
   "name": "python",
   "nbconvert_exporter": "python",
   "pygments_lexer": "ipython3",
   "version": "3.8.3"
  }
 },
 "nbformat": 4,
 "nbformat_minor": 4
}
